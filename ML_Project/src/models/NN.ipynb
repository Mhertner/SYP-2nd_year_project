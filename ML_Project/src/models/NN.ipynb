{
 "cells": [
  {
   "cell_type": "code",
   "execution_count": 2,
   "metadata": {},
   "outputs": [],
   "source": [
    "import pandas as pd\n",
    "import numpy as np\n",
    "import sklearn as sk\n",
    "import numpy as np\n",
    "from sklearn import svm\n",
    "from sklearn.metrics import confusion_matrix\n",
    "import matplotlib.pyplot as plt\n",
    "from sklearn import preprocessing\n",
    "import itertools\n",
    "from mpl_toolkits.mplot3d import Axes3D\n",
    "import seaborn as sn\n",
    "from sklearn.neural_network import MLPClassifier\n",
    "from sklearn.metrics import accuracy_score"
   ]
  },
  {
   "cell_type": "code",
   "execution_count": 4,
   "metadata": {},
   "outputs": [],
   "source": [
    "test = pd.read_csv ('df_test.csv', sep = ',')\n",
    "train = pd.read_csv('df_train.csv', sep = ',')\n",
    "\n",
    "\n",
    "x_train = train.drop(columns = ['type'])\n",
    "x_train = preprocessing.scale(x_train)\n",
    "\n",
    "y_train = train['type']\n",
    "x_test = test.drop(columns = ['type'])\n",
    "x_test = preprocessing.scale(x_test)\n",
    "\n",
    "y_test = test['type']\n",
    "\n",
    "\n",
    "\n",
    "features = list(train.columns.values[:-1])\n",
    "\n"
   ]
  },
  {
   "cell_type": "code",
   "execution_count": 5,
   "metadata": {},
   "outputs": [],
   "source": [
    "#from sklearn.preprocessing import StandardScaler\n",
    "#scaler = StandardScaler()\n",
    "## Don't cheat - fit only on training data\n",
    "#scaler.fit(x_train)  # doctest: +SKIP\n",
    "#x_train = scaler.transform(x_train)  # doctest: +SKIP\n",
    "## apply same transformation to test data\n",
    "#x_test = scaler.transform(x_test)  # doctest: +SKIP"
   ]
  },
  {
   "cell_type": "markdown",
   "metadata": {},
   "source": [
    "## Neural Network"
   ]
  },
  {
   "cell_type": "code",
   "execution_count": 16,
   "metadata": {},
   "outputs": [
    {
     "data": {
      "text/plain": [
       "0.7538461538461538"
      ]
     },
     "execution_count": 16,
     "metadata": {},
     "output_type": "execute_result"
    }
   ],
   "source": [
    "import random\n",
    "np.random.seed(0)\n",
    "\n",
    "clf = MLPClassifier(hidden_layer_sizes = (10,10,10), max_iter=10000, activation = 'logistic', solver='adam', alpha = 0.0001).fit(x_train, y_train)\n",
    "\n",
    "preds = clf.predict(x_test)\n",
    "accuracy_score(preds, y_test)"
   ]
  },
  {
   "cell_type": "markdown",
   "metadata": {},
   "source": [
    "Parameters to tune:\n",
    "\n",
    "hidden_layer_sizes = tuple() # Each number is the number of nodes in that particular layer.\n",
    "\n",
    "activation = ‘identity’, ‘logistic’, ‘tanh’, ‘relu’\n",
    "\n",
    "solver = ‘lbfgs’, ‘sgd’, ‘adam’\n",
    "\n",
    "alpha = float\n",
    "\n",
    "bactch_size(for gradient descent) = int\n",
    "\n",
    "learning_rate = "
   ]
  },
  {
   "cell_type": "code",
   "execution_count": 17,
   "metadata": {},
   "outputs": [
    {
     "name": "stdout",
     "output_type": "stream",
     "text": [
      "0.6307692307692307\n",
      "0.6307692307692307\n",
      "0.6461538461538462\n",
      "0.676923076923077\n",
      "0.35384615384615387\n",
      "0.7384615384615385\n",
      "0.6615384615384615\n",
      "0.7692307692307693\n",
      "0.7076923076923077\n",
      "0.6153846153846154\n",
      "0.7384615384615385\n",
      "0.7076923076923077\n"
     ]
    }
   ],
   "source": [
    "np.random.seed(0)\n",
    "\n",
    "activations = ['identity', 'logistic', 'tanh', 'relu']\n",
    "solvers = ['lbfgs', 'sgd', 'adam']\n",
    "\n",
    "alphas = np.linspace(0.1, 0.000000001, 10)\n",
    "\n",
    "\n",
    "foo_dict = {}\n",
    "\n",
    "for index, (act, solv) in enumerate(itertools.product(activations,solvers)):\n",
    "    clf = MLPClassifier(hidden_layer_sizes = (10,10,10), max_iter=20000000, activation = act, solver=solv, alpha = 0.00001).fit(x_train, y_train)\n",
    "    preds = clf.predict(x_test)\n",
    "    foo_dict[accuracy_score(preds, y_test)] = (act,solv)\n",
    "    print(accuracy_score(preds, y_test))\n",
    "        #falpha in alphas:\n",
    "        #clf = MLPClassifier(hidden_layer_sizes = (10,10,10), max_iter=2000, activation = act, solver=solv, alpha = alpha).fit(x_train, y_train)\n",
    "        #preds = clf.predict(x_test)\n",
    "        #foo_dict[accuracy_score(preds, y_test)] = (act,solv,alpha)\n",
    "        #print(accuracy_score(preds, y_test))\n"
   ]
  },
  {
   "cell_type": "code",
   "execution_count": 18,
   "metadata": {},
   "outputs": [
    {
     "data": {
      "text/plain": [
       "[0.7846153846153846,\n",
       " 0.7538461538461538,\n",
       " 0.7384615384615385,\n",
       " 0.7230769230769231,\n",
       " 0.6615384615384615,\n",
       " 0.6461538461538462,\n",
       " 0.6153846153846154,\n",
       " 0.6,\n",
       " 0.49230769230769234,\n",
       " 0.35384615384615387]"
      ]
     },
     "execution_count": 18,
     "metadata": {},
     "output_type": "execute_result"
    }
   ],
   "source": [
    "sorted(foo_dict, reverse=True)"
   ]
  },
  {
   "cell_type": "code",
   "execution_count": 19,
   "metadata": {},
   "outputs": [
    {
     "data": {
      "text/plain": [
       "('relu', 'adam')"
      ]
     },
     "execution_count": 19,
     "metadata": {},
     "output_type": "execute_result"
    }
   ],
   "source": [
    "foo_dict[0.7846153846153846]"
   ]
  },
  {
   "cell_type": "code",
   "execution_count": 3,
   "metadata": {},
   "outputs": [
    {
     "data": {
      "text/plain": [
       "array([1.0000000e-01, 8.8888889e-02, 7.7777778e-02, 6.6666667e-02,\n",
       "       5.5555556e-02, 4.4444445e-02, 3.3333334e-02, 2.2222223e-02,\n",
       "       1.1111112e-02, 1.0000000e-09])"
      ]
     },
     "execution_count": 3,
     "metadata": {},
     "output_type": "execute_result"
    }
   ],
   "source": [
    "from sklearn.model_selection import GridSearchCV\n",
    "\n",
    "al = np.linspace(0.1, 0.000000001, 10)\n",
    "\n",
    "parameters = {'activation':('identity', 'logistic', 'tanh', 'relu'), 'solver':('lbfgs', 'sgd', 'adam'), 'alpha': al }\n",
    "\n",
    "clf1 = clf = MLPClassifier(hidden_layer_sizes = (10,10,10), max_iter=10000, alpha = 0.0001).fit(x_train, y_train)\n",
    "\n",
    "\n",
    "#clf1.get_params().keys()\n",
    "clf = GridSearchCV(clf1, parameters)\n",
    "clf.fit(x_train, y_train)\n",
    "\n",
    "clf"
   ]
  },
  {
   "cell_type": "code",
   "execution_count": 36,
   "metadata": {},
   "outputs": [
    {
     "data": {
      "text/plain": [
       "0.7076923076923077"
      ]
     },
     "execution_count": 36,
     "metadata": {},
     "output_type": "execute_result"
    }
   ],
   "source": [
    "preds = clf.predict(x_test)\n",
    "accuracy_score(preds, y_test)"
   ]
  },
  {
   "cell_type": "code",
   "execution_count": null,
   "metadata": {},
   "outputs": [],
   "source": [
    "clf = MLPClassifier(hidden_layer_sizes = (10,10,10), max_iter=10000, alpha = 0.0001).fit(x_train, y_train)\n",
    "\n"
   ]
  },
  {
   "cell_type": "code",
   "execution_count": null,
   "metadata": {},
   "outputs": [],
   "source": []
  }
 ],
 "metadata": {
  "kernelspec": {
   "display_name": "Python 3",
   "language": "python",
   "name": "python3"
  },
  "language_info": {
   "codemirror_mode": {
    "name": "ipython",
    "version": 3
   },
   "file_extension": ".py",
   "mimetype": "text/x-python",
   "name": "python",
   "nbconvert_exporter": "python",
   "pygments_lexer": "ipython3",
   "version": "3.8.5"
  }
 },
 "nbformat": 4,
 "nbformat_minor": 4
}
